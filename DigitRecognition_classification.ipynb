{
 "cells": [
  {
   "cell_type": "code",
   "execution_count": 1,
   "metadata": {},
   "outputs": [],
   "source": [
    "import numpy as np # needed for array\n",
    "import pandas as pd # needed for reading CSV\n",
    "import matplotlib.pyplot as plt # for common graph plotting"
   ]
  },
  {
   "cell_type": "code",
   "execution_count": 2,
   "metadata": {},
   "outputs": [
    {
     "name": "stdout",
     "output_type": "stream",
     "text": [
      "(3823, 65)\n",
      "(1797, 65)\n"
     ]
    }
   ],
   "source": [
    "data_train = pd.read_csv('optdigits.tra.csv')\n",
    "data_test = pd.read_csv('optdigits.tes.csv')\n",
    "\n",
    "print(data_train.shape)\n",
    "print(data_test.shape)"
   ]
  },
  {
   "cell_type": "code",
   "execution_count": 3,
   "metadata": {},
   "outputs": [],
   "source": [
    "train_X = data_train[['x11','x12','x13','x14','x15','x16','x17','x18','x21','x22','x23','x24','x25','x26','x27','x28','x31','x32','x33','x34','x35','x36','x37','x38','x41','x42','x43','x44','x45','x46','x47','x48','x51','x52','x53','x54','x55','x56','x57','x58','x61','x62','x63','x64','x65','x66','x67','x68','x71','x72','x73','x74','x75','x76','x77','x78','x81','x82','x83','x84','x85','x86','x87','x88']] # taking the training data features\n",
    "train_y = data_train.digit # output of the training data\n",
    "\n",
    "test_X = data_test[['x11','x12','x13','x14','x15','x16','x17','x18','x21','x22','x23','x24','x25','x26','x27','x28','x31','x32','x33','x34','x35','x36','x37','x38','x41','x42','x43','x44','x45','x46','x47','x48','x51','x52','x53','x54','x55','x56','x57','x58','x61','x62','x63','x64','x65','x66','x67','x68','x71','x72','x73','x74','x75','x76','x77','x78','x81','x82','x83','x84','x85','x86','x87','x88']] # taking test data feature\n",
    "test_y = data_test.digit # output value of the test data"
   ]
  },
  {
   "cell_type": "code",
   "execution_count": 4,
   "metadata": {},
   "outputs": [
    {
     "data": {
      "text/html": [
       "<div>\n",
       "<style scoped>\n",
       "    .dataframe tbody tr th:only-of-type {\n",
       "        vertical-align: middle;\n",
       "    }\n",
       "\n",
       "    .dataframe tbody tr th {\n",
       "        vertical-align: top;\n",
       "    }\n",
       "\n",
       "    .dataframe thead th {\n",
       "        text-align: right;\n",
       "    }\n",
       "</style>\n",
       "<table border=\"1\" class=\"dataframe\">\n",
       "  <thead>\n",
       "    <tr style=\"text-align: right;\">\n",
       "      <th></th>\n",
       "      <th>x11</th>\n",
       "      <th>x12</th>\n",
       "      <th>x13</th>\n",
       "      <th>x14</th>\n",
       "      <th>x15</th>\n",
       "      <th>x16</th>\n",
       "      <th>x17</th>\n",
       "      <th>x18</th>\n",
       "      <th>x21</th>\n",
       "      <th>x22</th>\n",
       "      <th>...</th>\n",
       "      <th>x77</th>\n",
       "      <th>x78</th>\n",
       "      <th>x81</th>\n",
       "      <th>x82</th>\n",
       "      <th>x83</th>\n",
       "      <th>x84</th>\n",
       "      <th>x85</th>\n",
       "      <th>x86</th>\n",
       "      <th>x87</th>\n",
       "      <th>x88</th>\n",
       "    </tr>\n",
       "  </thead>\n",
       "  <tbody>\n",
       "    <tr>\n",
       "      <th>0</th>\n",
       "      <td>0</td>\n",
       "      <td>1</td>\n",
       "      <td>6</td>\n",
       "      <td>15</td>\n",
       "      <td>12</td>\n",
       "      <td>1</td>\n",
       "      <td>0</td>\n",
       "      <td>0</td>\n",
       "      <td>0</td>\n",
       "      <td>7</td>\n",
       "      <td>...</td>\n",
       "      <td>0</td>\n",
       "      <td>0</td>\n",
       "      <td>0</td>\n",
       "      <td>0</td>\n",
       "      <td>6</td>\n",
       "      <td>14</td>\n",
       "      <td>7</td>\n",
       "      <td>1</td>\n",
       "      <td>0</td>\n",
       "      <td>0</td>\n",
       "    </tr>\n",
       "    <tr>\n",
       "      <th>1</th>\n",
       "      <td>0</td>\n",
       "      <td>0</td>\n",
       "      <td>10</td>\n",
       "      <td>16</td>\n",
       "      <td>6</td>\n",
       "      <td>0</td>\n",
       "      <td>0</td>\n",
       "      <td>0</td>\n",
       "      <td>0</td>\n",
       "      <td>7</td>\n",
       "      <td>...</td>\n",
       "      <td>3</td>\n",
       "      <td>0</td>\n",
       "      <td>0</td>\n",
       "      <td>0</td>\n",
       "      <td>10</td>\n",
       "      <td>16</td>\n",
       "      <td>15</td>\n",
       "      <td>3</td>\n",
       "      <td>0</td>\n",
       "      <td>0</td>\n",
       "    </tr>\n",
       "    <tr>\n",
       "      <th>2</th>\n",
       "      <td>0</td>\n",
       "      <td>0</td>\n",
       "      <td>8</td>\n",
       "      <td>15</td>\n",
       "      <td>16</td>\n",
       "      <td>13</td>\n",
       "      <td>0</td>\n",
       "      <td>0</td>\n",
       "      <td>0</td>\n",
       "      <td>1</td>\n",
       "      <td>...</td>\n",
       "      <td>0</td>\n",
       "      <td>0</td>\n",
       "      <td>0</td>\n",
       "      <td>0</td>\n",
       "      <td>9</td>\n",
       "      <td>14</td>\n",
       "      <td>0</td>\n",
       "      <td>0</td>\n",
       "      <td>0</td>\n",
       "      <td>0</td>\n",
       "    </tr>\n",
       "    <tr>\n",
       "      <th>3</th>\n",
       "      <td>0</td>\n",
       "      <td>0</td>\n",
       "      <td>0</td>\n",
       "      <td>3</td>\n",
       "      <td>11</td>\n",
       "      <td>16</td>\n",
       "      <td>0</td>\n",
       "      <td>0</td>\n",
       "      <td>0</td>\n",
       "      <td>0</td>\n",
       "      <td>...</td>\n",
       "      <td>0</td>\n",
       "      <td>0</td>\n",
       "      <td>0</td>\n",
       "      <td>0</td>\n",
       "      <td>0</td>\n",
       "      <td>1</td>\n",
       "      <td>15</td>\n",
       "      <td>2</td>\n",
       "      <td>0</td>\n",
       "      <td>0</td>\n",
       "    </tr>\n",
       "    <tr>\n",
       "      <th>4</th>\n",
       "      <td>0</td>\n",
       "      <td>0</td>\n",
       "      <td>5</td>\n",
       "      <td>14</td>\n",
       "      <td>4</td>\n",
       "      <td>0</td>\n",
       "      <td>0</td>\n",
       "      <td>0</td>\n",
       "      <td>0</td>\n",
       "      <td>0</td>\n",
       "      <td>...</td>\n",
       "      <td>12</td>\n",
       "      <td>0</td>\n",
       "      <td>0</td>\n",
       "      <td>0</td>\n",
       "      <td>4</td>\n",
       "      <td>12</td>\n",
       "      <td>14</td>\n",
       "      <td>7</td>\n",
       "      <td>0</td>\n",
       "      <td>0</td>\n",
       "    </tr>\n",
       "  </tbody>\n",
       "</table>\n",
       "<p>5 rows × 64 columns</p>\n",
       "</div>"
      ],
      "text/plain": [
       "   x11  x12  x13  x14  x15  x16  x17  x18  x21  x22 ...   x77  x78  x81  x82  \\\n",
       "0    0    1    6   15   12    1    0    0    0    7 ...     0    0    0    0   \n",
       "1    0    0   10   16    6    0    0    0    0    7 ...     3    0    0    0   \n",
       "2    0    0    8   15   16   13    0    0    0    1 ...     0    0    0    0   \n",
       "3    0    0    0    3   11   16    0    0    0    0 ...     0    0    0    0   \n",
       "4    0    0    5   14    4    0    0    0    0    0 ...    12    0    0    0   \n",
       "\n",
       "   x83  x84  x85  x86  x87  x88  \n",
       "0    6   14    7    1    0    0  \n",
       "1   10   16   15    3    0    0  \n",
       "2    9   14    0    0    0    0  \n",
       "3    0    1   15    2    0    0  \n",
       "4    4   12   14    7    0    0  \n",
       "\n",
       "[5 rows x 64 columns]"
      ]
     },
     "execution_count": 4,
     "metadata": {},
     "output_type": "execute_result"
    }
   ],
   "source": [
    "train_X.head()"
   ]
  },
  {
   "cell_type": "code",
   "execution_count": 5,
   "metadata": {},
   "outputs": [
    {
     "data": {
      "text/html": [
       "<div>\n",
       "<style scoped>\n",
       "    .dataframe tbody tr th:only-of-type {\n",
       "        vertical-align: middle;\n",
       "    }\n",
       "\n",
       "    .dataframe tbody tr th {\n",
       "        vertical-align: top;\n",
       "    }\n",
       "\n",
       "    .dataframe thead th {\n",
       "        text-align: right;\n",
       "    }\n",
       "</style>\n",
       "<table border=\"1\" class=\"dataframe\">\n",
       "  <thead>\n",
       "    <tr style=\"text-align: right;\">\n",
       "      <th></th>\n",
       "      <th>x11</th>\n",
       "      <th>x12</th>\n",
       "      <th>x13</th>\n",
       "      <th>x14</th>\n",
       "      <th>x15</th>\n",
       "      <th>x16</th>\n",
       "      <th>x17</th>\n",
       "      <th>x18</th>\n",
       "      <th>x21</th>\n",
       "      <th>x22</th>\n",
       "      <th>...</th>\n",
       "      <th>x77</th>\n",
       "      <th>x78</th>\n",
       "      <th>x81</th>\n",
       "      <th>x82</th>\n",
       "      <th>x83</th>\n",
       "      <th>x84</th>\n",
       "      <th>x85</th>\n",
       "      <th>x86</th>\n",
       "      <th>x87</th>\n",
       "      <th>x88</th>\n",
       "    </tr>\n",
       "  </thead>\n",
       "  <tbody>\n",
       "    <tr>\n",
       "      <th>0</th>\n",
       "      <td>0</td>\n",
       "      <td>0</td>\n",
       "      <td>5</td>\n",
       "      <td>13</td>\n",
       "      <td>9</td>\n",
       "      <td>1</td>\n",
       "      <td>0</td>\n",
       "      <td>0</td>\n",
       "      <td>0</td>\n",
       "      <td>0</td>\n",
       "      <td>...</td>\n",
       "      <td>0</td>\n",
       "      <td>0</td>\n",
       "      <td>0</td>\n",
       "      <td>0</td>\n",
       "      <td>6</td>\n",
       "      <td>13</td>\n",
       "      <td>10</td>\n",
       "      <td>0</td>\n",
       "      <td>0</td>\n",
       "      <td>0</td>\n",
       "    </tr>\n",
       "    <tr>\n",
       "      <th>1</th>\n",
       "      <td>0</td>\n",
       "      <td>0</td>\n",
       "      <td>0</td>\n",
       "      <td>12</td>\n",
       "      <td>13</td>\n",
       "      <td>5</td>\n",
       "      <td>0</td>\n",
       "      <td>0</td>\n",
       "      <td>0</td>\n",
       "      <td>0</td>\n",
       "      <td>...</td>\n",
       "      <td>0</td>\n",
       "      <td>0</td>\n",
       "      <td>0</td>\n",
       "      <td>0</td>\n",
       "      <td>0</td>\n",
       "      <td>11</td>\n",
       "      <td>16</td>\n",
       "      <td>10</td>\n",
       "      <td>0</td>\n",
       "      <td>0</td>\n",
       "    </tr>\n",
       "    <tr>\n",
       "      <th>2</th>\n",
       "      <td>0</td>\n",
       "      <td>0</td>\n",
       "      <td>0</td>\n",
       "      <td>4</td>\n",
       "      <td>15</td>\n",
       "      <td>12</td>\n",
       "      <td>0</td>\n",
       "      <td>0</td>\n",
       "      <td>0</td>\n",
       "      <td>0</td>\n",
       "      <td>...</td>\n",
       "      <td>5</td>\n",
       "      <td>0</td>\n",
       "      <td>0</td>\n",
       "      <td>0</td>\n",
       "      <td>0</td>\n",
       "      <td>3</td>\n",
       "      <td>11</td>\n",
       "      <td>16</td>\n",
       "      <td>9</td>\n",
       "      <td>0</td>\n",
       "    </tr>\n",
       "    <tr>\n",
       "      <th>3</th>\n",
       "      <td>0</td>\n",
       "      <td>0</td>\n",
       "      <td>7</td>\n",
       "      <td>15</td>\n",
       "      <td>13</td>\n",
       "      <td>1</td>\n",
       "      <td>0</td>\n",
       "      <td>0</td>\n",
       "      <td>0</td>\n",
       "      <td>8</td>\n",
       "      <td>...</td>\n",
       "      <td>9</td>\n",
       "      <td>0</td>\n",
       "      <td>0</td>\n",
       "      <td>0</td>\n",
       "      <td>7</td>\n",
       "      <td>13</td>\n",
       "      <td>13</td>\n",
       "      <td>9</td>\n",
       "      <td>0</td>\n",
       "      <td>0</td>\n",
       "    </tr>\n",
       "    <tr>\n",
       "      <th>4</th>\n",
       "      <td>0</td>\n",
       "      <td>0</td>\n",
       "      <td>0</td>\n",
       "      <td>1</td>\n",
       "      <td>11</td>\n",
       "      <td>0</td>\n",
       "      <td>0</td>\n",
       "      <td>0</td>\n",
       "      <td>0</td>\n",
       "      <td>0</td>\n",
       "      <td>...</td>\n",
       "      <td>0</td>\n",
       "      <td>0</td>\n",
       "      <td>0</td>\n",
       "      <td>0</td>\n",
       "      <td>0</td>\n",
       "      <td>2</td>\n",
       "      <td>16</td>\n",
       "      <td>4</td>\n",
       "      <td>0</td>\n",
       "      <td>0</td>\n",
       "    </tr>\n",
       "  </tbody>\n",
       "</table>\n",
       "<p>5 rows × 64 columns</p>\n",
       "</div>"
      ],
      "text/plain": [
       "   x11  x12  x13  x14  x15  x16  x17  x18  x21  x22 ...   x77  x78  x81  x82  \\\n",
       "0    0    0    5   13    9    1    0    0    0    0 ...     0    0    0    0   \n",
       "1    0    0    0   12   13    5    0    0    0    0 ...     0    0    0    0   \n",
       "2    0    0    0    4   15   12    0    0    0    0 ...     5    0    0    0   \n",
       "3    0    0    7   15   13    1    0    0    0    8 ...     9    0    0    0   \n",
       "4    0    0    0    1   11    0    0    0    0    0 ...     0    0    0    0   \n",
       "\n",
       "   x83  x84  x85  x86  x87  x88  \n",
       "0    6   13   10    0    0    0  \n",
       "1    0   11   16   10    0    0  \n",
       "2    0    3   11   16    9    0  \n",
       "3    7   13   13    9    0    0  \n",
       "4    0    2   16    4    0    0  \n",
       "\n",
       "[5 rows x 64 columns]"
      ]
     },
     "execution_count": 5,
     "metadata": {},
     "output_type": "execute_result"
    }
   ],
   "source": [
    "test_X.head()"
   ]
  },
  {
   "cell_type": "code",
   "execution_count": 6,
   "metadata": {},
   "outputs": [
    {
     "data": {
      "text/plain": [
       "0    0\n",
       "1    0\n",
       "2    7\n",
       "3    4\n",
       "4    6\n",
       "Name: digit, dtype: int64"
      ]
     },
     "execution_count": 6,
     "metadata": {},
     "output_type": "execute_result"
    }
   ],
   "source": [
    "train_y.head()"
   ]
  },
  {
   "cell_type": "code",
   "execution_count": 7,
   "metadata": {},
   "outputs": [],
   "source": [
    "#Now I'll try calculating the accuracy for K-Nearest Neighbors and replicate the results as given\n",
    "#question 3) K-Nearest Neighbors\n",
    "\n",
    "#! pip install -U scikit-learn"
   ]
  },
  {
   "cell_type": "code",
   "execution_count": 8,
   "metadata": {},
   "outputs": [],
   "source": [
    "from sklearn.model_selection import train_test_split\n",
    "#from sklearn.cross_validation import train_test_split # to split the dataset for training and testing \n",
    "from sklearn.neighbors import KNeighborsClassifier # KNN classifier\n",
    "from sklearn import metrics # for checking the model accuracy"
   ]
  },
  {
   "cell_type": "code",
   "execution_count": 9,
   "metadata": {},
   "outputs": [
    {
     "name": "stdout",
     "output_type": "stream",
     "text": [
      "The accuracy of the K-Nearest Neighbors is:  0.9799666110183639\n"
     ]
    }
   ],
   "source": [
    "model = KNeighborsClassifier(n_neighbors=1) # this examines 3 neighbors for putting the data into class\n",
    "# we train the algorithm with training data and training output\n",
    "model.fit(train_X, train_y)\n",
    "# we pass the testing data to the stored algorithm to predict the outcome\n",
    "prediction = model.predict(test_X)\n",
    "print('The accuracy of the K-Nearest Neighbors is: ', metrics.accuracy_score(prediction, test_y)) # we check the accuracy of the algorithm\n",
    "#we pass the predicted output by the model and the actual output"
   ]
  },
  {
   "cell_type": "code",
   "execution_count": 10,
   "metadata": {},
   "outputs": [
    {
     "name": "stdout",
     "output_type": "stream",
     "text": [
      "The accuracy of the K-Nearest Neighbors is:  0.9738452977184195\n"
     ]
    }
   ],
   "source": [
    "model = KNeighborsClassifier(n_neighbors=2) # this examines 3 neighbors for putting the data into class\n",
    "# we train the algorithm with training data and training output\n",
    "model.fit(train_X, train_y)\n",
    "# we pass the testing data to the stored algorithm to predict the outcome\n",
    "prediction = model.predict(test_X)\n",
    "print('The accuracy of the K-Nearest Neighbors is: ', metrics.accuracy_score(prediction, test_y)) # we check the accuracy of the algorithm\n",
    "#we pass the predicted output by the model and the actual output"
   ]
  },
  {
   "cell_type": "code",
   "execution_count": 11,
   "metadata": {},
   "outputs": [
    {
     "name": "stdout",
     "output_type": "stream",
     "text": [
      "The accuracy of the K-Nearest Neighbors is:  0.9782971619365609\n"
     ]
    }
   ],
   "source": [
    "model = KNeighborsClassifier(n_neighbors=3) # this examines 3 neighbors for putting the data into class\n",
    "# we train the algorithm with training data and training output\n",
    "model.fit(train_X, train_y)\n",
    "# we pass the testing data to the stored algorithm to predict the outcome\n",
    "prediction = model.predict(test_X)\n",
    "print('The accuracy of the K-Nearest Neighbors is: ', metrics.accuracy_score(prediction, test_y)) # we check the accuracy of the algorithm\n",
    "#we pass the predicted output by the model and the actual output"
   ]
  },
  {
   "cell_type": "code",
   "execution_count": 12,
   "metadata": {},
   "outputs": [
    {
     "name": "stdout",
     "output_type": "stream",
     "text": [
      "The accuracy of the K-Nearest Neighbors is:  0.9766277128547579\n"
     ]
    }
   ],
   "source": [
    "model = KNeighborsClassifier(n_neighbors=4) # this examines 3 neighbors for putting the data into class\n",
    "# we train the algorithm with training data and training output\n",
    "model.fit(train_X, train_y)\n",
    "# we pass the testing data to the stored algorithm to predict the outcome\n",
    "prediction = model.predict(test_X)\n",
    "print('The accuracy of the K-Nearest Neighbors is: ', metrics.accuracy_score(prediction, test_y)) # we check the accuracy of the algorithm\n",
    "#we pass the predicted output by the model and the actual output"
   ]
  },
  {
   "cell_type": "code",
   "execution_count": 13,
   "metadata": {},
   "outputs": [
    {
     "name": "stdout",
     "output_type": "stream",
     "text": [
      "The accuracy of the K-Nearest Neighbors is:  0.9788536449638287\n"
     ]
    }
   ],
   "source": [
    "model = KNeighborsClassifier(n_neighbors=5) # this examines 3 neighbors for putting the data into class\n",
    "# we train the algorithm with training data and training output\n",
    "model.fit(train_X, train_y)\n",
    "# we pass the testing data to the stored algorithm to predict the outcome\n",
    "prediction = model.predict(test_X)\n",
    "print('The accuracy of the K-Nearest Neighbors is: ', metrics.accuracy_score(prediction, test_y)) # we check the accuracy of the algorithm\n",
    "#we pass the predicted output by the model and the actual output"
   ]
  },
  {
   "cell_type": "code",
   "execution_count": 14,
   "metadata": {},
   "outputs": [
    {
     "name": "stdout",
     "output_type": "stream",
     "text": [
      "The accuracy of the K-Nearest Neighbors is:  0.9777406789092933\n"
     ]
    }
   ],
   "source": [
    "model = KNeighborsClassifier(n_neighbors=6) # this examines 3 neighbors for putting the data into class\n",
    "# we train the algorithm with training data and training output\n",
    "model.fit(train_X, train_y)\n",
    "# we pass the testing data to the stored algorithm to predict the outcome\n",
    "prediction = model.predict(test_X)\n",
    "print('The accuracy of the K-Nearest Neighbors is: ', metrics.accuracy_score(prediction, test_y)) # we check the accuracy of the algorithm\n",
    "#we pass the predicted output by the model and the actual output"
   ]
  },
  {
   "cell_type": "code",
   "execution_count": 15,
   "metadata": {},
   "outputs": [
    {
     "name": "stdout",
     "output_type": "stream",
     "text": [
      "The accuracy of the K-Nearest Neighbors is:  0.9766277128547579\n"
     ]
    }
   ],
   "source": [
    "model = KNeighborsClassifier(n_neighbors=7) # this examines 3 neighbors for putting the data into class\n",
    "# we train the algorithm with training data and training output\n",
    "model.fit(train_X, train_y)\n",
    "# we pass the testing data to the stored algorithm to predict the outcome\n",
    "prediction = model.predict(test_X)\n",
    "print('The accuracy of the K-Nearest Neighbors is: ', metrics.accuracy_score(prediction, test_y)) # we check the accuracy of the algorithm\n",
    "#we pass the predicted output by the model and the actual output"
   ]
  },
  {
   "cell_type": "code",
   "execution_count": 16,
   "metadata": {},
   "outputs": [
    {
     "name": "stdout",
     "output_type": "stream",
     "text": [
      "The accuracy of the K-Nearest Neighbors is:  0.9766277128547579\n"
     ]
    }
   ],
   "source": [
    "model = KNeighborsClassifier(n_neighbors=8) # this examines 3 neighbors for putting the data into class\n",
    "# we train the algorithm with training data and training output\n",
    "model.fit(train_X, train_y)\n",
    "# we pass the testing data to the stored algorithm to predict the outcome\n",
    "prediction = model.predict(test_X)\n",
    "print('The accuracy of the K-Nearest Neighbors is: ', metrics.accuracy_score(prediction, test_y)) # we check the accuracy of the algorithm\n",
    "#we pass the predicted output by the model and the actual output"
   ]
  },
  {
   "cell_type": "code",
   "execution_count": 17,
   "metadata": {},
   "outputs": [
    {
     "name": "stdout",
     "output_type": "stream",
     "text": [
      "The accuracy of the K-Nearest Neighbors is:  0.9771841958820257\n"
     ]
    }
   ],
   "source": [
    "model = KNeighborsClassifier(n_neighbors=9) # this examines 3 neighbors for putting the data into class\n",
    "# we train the algorithm with training data and training output\n",
    "model.fit(train_X, train_y)\n",
    "# we pass the testing data to the stored algorithm to predict the outcome\n",
    "prediction = model.predict(test_X)\n",
    "print('The accuracy of the K-Nearest Neighbors is: ', metrics.accuracy_score(prediction, test_y)) # we check the accuracy of the algorithm\n",
    "#we pass the predicted output by the model and the actual output"
   ]
  },
  {
   "cell_type": "code",
   "execution_count": 18,
   "metadata": {},
   "outputs": [
    {
     "name": "stdout",
     "output_type": "stream",
     "text": [
      "The accuracy of the K-Nearest Neighbors is:  0.9755147468002225\n"
     ]
    }
   ],
   "source": [
    "model = KNeighborsClassifier(n_neighbors=10) # this examines 3 neighbors for putting the data into class\n",
    "# we train the algorithm with training data and training output\n",
    "model.fit(train_X, train_y)\n",
    "# we pass the testing data to the stored algorithm to predict the outcome\n",
    "prediction = model.predict(test_X)\n",
    "print('The accuracy of the K-Nearest Neighbors is: ', metrics.accuracy_score(prediction, test_y)) # we check the accuracy of the algorithm\n",
    "#we pass the predicted output by the model and the actual output"
   ]
  },
  {
   "cell_type": "code",
   "execution_count": 19,
   "metadata": {},
   "outputs": [
    {
     "name": "stdout",
     "output_type": "stream",
     "text": [
      "The accuracy of the K-Nearest Neighbors is:  0.9794101279910963\n"
     ]
    }
   ],
   "source": [
    "model = KNeighborsClassifier(n_neighbors=11) # this examines 3 neighbors for putting the data into class\n",
    "# we train the algorithm with training data and training output\n",
    "model.fit(train_X, train_y)\n",
    "# we pass the testing data to the stored algorithm to predict the outcome\n",
    "prediction = model.predict(test_X)\n",
    "print('The accuracy of the K-Nearest Neighbors is: ', metrics.accuracy_score(prediction, test_y)) # we check the accuracy of the algorithm\n",
    "#we pass the predicted output by the model and the actual output"
   ]
  },
  {
   "cell_type": "code",
   "execution_count": 20,
   "metadata": {},
   "outputs": [],
   "source": [
    "#non-instance based classsifiers implementation\n",
    "from sklearn import svm # for suport vector machine algorithm"
   ]
  },
  {
   "cell_type": "code",
   "execution_count": 21,
   "metadata": {},
   "outputs": [
    {
     "name": "stderr",
     "output_type": "stream",
     "text": [
      "/Users/megs/anaconda3/lib/python3.6/site-packages/sklearn/svm/base.py:196: FutureWarning: The default value of gamma will change from 'auto' to 'scale' in version 0.22 to account better for unscaled features. Set gamma explicitly to 'auto' or 'scale' to avoid this warning.\n",
      "  \"avoid this warning.\", FutureWarning)\n"
     ]
    },
    {
     "name": "stdout",
     "output_type": "stream",
     "text": [
      "The accuracy of the SVM is:  0.562047857540345\n"
     ]
    }
   ],
   "source": [
    "model = svm.SVC() # select the svm algorithm\n",
    "# we train the algorithm with training data and training output\n",
    "model.fit(train_X, train_y)\n",
    "# we pass the testing data to the stored algorithm to predict the outcome\n",
    "prediction = model.predict(test_X)\n",
    "print('The accuracy of the SVM is: ', metrics.accuracy_score(prediction, test_y)) # we check the accuracy of the algorithm\n",
    "#we pass the predicted output by the model and the actual output"
   ]
  },
  {
   "cell_type": "code",
   "execution_count": 22,
   "metadata": {},
   "outputs": [],
   "source": [
    "from sklearn.linear_model import LogisticRegression # for Logistic Regression Algorithm"
   ]
  },
  {
   "cell_type": "code",
   "execution_count": 23,
   "metadata": {},
   "outputs": [
    {
     "name": "stderr",
     "output_type": "stream",
     "text": [
      "/Users/megs/anaconda3/lib/python3.6/site-packages/sklearn/linear_model/logistic.py:433: FutureWarning: Default solver will be changed to 'lbfgs' in 0.22. Specify a solver to silence this warning.\n",
      "  FutureWarning)\n",
      "/Users/megs/anaconda3/lib/python3.6/site-packages/sklearn/linear_model/logistic.py:460: FutureWarning: Default multi_class will be changed to 'auto' in 0.22. Specify the multi_class option to silence this warning.\n",
      "  \"this warning.\", FutureWarning)\n"
     ]
    },
    {
     "name": "stdout",
     "output_type": "stream",
     "text": [
      "The accuracy of the LogisticRegression is:  0.9471341124095715\n"
     ]
    }
   ],
   "source": [
    "model = LogisticRegression() #select the logistic regression algorithm\n",
    "# we train the algorithm with training data and training output\n",
    "model.fit(train_X, train_y)\n",
    "# we pass the testing data to the stored algorithm to predict the outcome\n",
    "prediction = model.predict(test_X)\n",
    "print('The accuracy of the LogisticRegression is: ', metrics.accuracy_score(prediction, test_y)) # we check the accuracy of the algorithm\n",
    "#we pass the predicted output by the model and the actual output"
   ]
  },
  {
   "cell_type": "code",
   "execution_count": 24,
   "metadata": {},
   "outputs": [
    {
     "name": "stdout",
     "output_type": "stream",
     "text": [
      "The accuracy of the Decision Tree is:  0.8542014468558708\n"
     ]
    }
   ],
   "source": [
    "from sklearn.tree import DecisionTreeClassifier # for using DTA\n",
    "model = DecisionTreeClassifier() #select the Decision Tree algorithm\n",
    "# we train the algorithm with training data and training output\n",
    "model.fit(train_X, train_y)\n",
    "# we pass the testing data to the stored algorithm to predict the outcome\n",
    "prediction = model.predict(test_X)\n",
    "print('The accuracy of the Decision Tree is: ', metrics.accuracy_score(prediction, test_y)) # we check the accuracy of the algorithm\n",
    "#we pass the predicted output by the model and the actual output"
   ]
  },
  {
   "cell_type": "code",
   "execution_count": 25,
   "metadata": {},
   "outputs": [],
   "source": [
    "from sklearn.naive_bayes import GaussianNB #naivebayes"
   ]
  },
  {
   "cell_type": "code",
   "execution_count": 26,
   "metadata": {},
   "outputs": [
    {
     "name": "stdout",
     "output_type": "stream",
     "text": [
      "The accuracy of the NaiveBayes is:  0.7863105175292153\n"
     ]
    }
   ],
   "source": [
    "model = GaussianNB() #select NaiveBayes algorithm\n",
    "# we train the algorithm with training data and training output\n",
    "model.fit(train_X, train_y)\n",
    "# we pass the testing data to the stored algorithm to predict the outcome\n",
    "prediction = model.predict(test_X)\n",
    "print('The accuracy of the NaiveBayes is: ', metrics.accuracy_score(prediction, test_y)) # we check the accuracy of the algorithm\n",
    "#we pass the predicted output by the model and the actual output"
   ]
  },
  {
   "cell_type": "code",
   "execution_count": 27,
   "metadata": {},
   "outputs": [],
   "source": [
    "from sklearn.ensemble import RandomForestClassifier #RandomForest"
   ]
  },
  {
   "cell_type": "code",
   "execution_count": 28,
   "metadata": {},
   "outputs": [
    {
     "name": "stdout",
     "output_type": "stream",
     "text": [
      "The accuracy of the Random Forest is:  0.9471341124095715\n"
     ]
    },
    {
     "name": "stderr",
     "output_type": "stream",
     "text": [
      "/Users/megs/anaconda3/lib/python3.6/site-packages/sklearn/ensemble/forest.py:246: FutureWarning: The default value of n_estimators will change from 10 in version 0.20 to 100 in 0.22.\n",
      "  \"10 in version 0.20 to 100 in 0.22.\", FutureWarning)\n"
     ]
    }
   ],
   "source": [
    "model = RandomForestClassifier() #select the RandomForest algorithm\n",
    "# we train the algorithm with training data and training output\n",
    "model.fit(train_X, train_y)\n",
    "# we pass the testing data to the stored algorithm to predict the outcome\n",
    "prediction = model.predict(test_X)\n",
    "print('The accuracy of the Random Forest is: ', metrics.accuracy_score(prediction, test_y)) # we check the accuracy of the algorithm\n",
    "#we pass the predicted output by the model and the actual output"
   ]
  },
  {
   "cell_type": "code",
   "execution_count": 29,
   "metadata": {},
   "outputs": [
    {
     "name": "stdout",
     "output_type": "stream",
     "text": [
      "k =  1 begin\n",
      "              precision    recall  f1-score   support\n",
      "\n",
      "           0       1.00      1.00      1.00       178\n",
      "           1       0.94      0.99      0.97       182\n",
      "           2       1.00      0.99      0.99       177\n",
      "           3       0.98      0.98      0.98       183\n",
      "           4       0.98      0.98      0.98       181\n",
      "           5       0.99      0.98      0.99       182\n",
      "           6       1.00      1.00      1.00       181\n",
      "           7       0.99      0.99      0.99       179\n",
      "           8       0.97      0.94      0.96       174\n",
      "           9       0.96      0.94      0.95       180\n",
      "\n",
      "   micro avg       0.98      0.98      0.98      1797\n",
      "   macro avg       0.98      0.98      0.98      1797\n",
      "weighted avg       0.98      0.98      0.98      1797\n",
      "\n",
      "[[178   0   0   0   0   0   0   0   0   0]\n",
      " [  0 181   0   0   0   0   0   0   1   0]\n",
      " [  0   2 175   0   0   0   0   0   0   0]\n",
      " [  0   0   0 179   0   0   0   2   0   2]\n",
      " [  0   2   0   0 178   0   0   0   1   0]\n",
      " [  0   0   0   0   1 179   0   0   0   2]\n",
      " [  0   0   0   0   0   0 181   0   0   0]\n",
      " [  0   0   0   0   0   0   0 177   0   2]\n",
      " [  0   8   0   1   0   0   0   0 164   1]\n",
      " [  0   0   0   3   3   2   0   0   3 169]]\n",
      "total time used is  0.4654099941253662 secs.\n",
      "k =  2 begin\n",
      "              precision    recall  f1-score   support\n",
      "\n",
      "           0       0.99      1.00      1.00       178\n",
      "           1       0.92      1.00      0.96       182\n",
      "           2       0.99      0.98      0.99       177\n",
      "           3       0.96      0.99      0.97       183\n",
      "           4       0.97      0.98      0.98       181\n",
      "           5       0.97      0.98      0.98       182\n",
      "           6       1.00      0.99      0.99       181\n",
      "           7       0.99      0.98      0.99       179\n",
      "           8       0.97      0.91      0.94       174\n",
      "           9       0.98      0.92      0.95       180\n",
      "\n",
      "   micro avg       0.97      0.97      0.97      1797\n",
      "   macro avg       0.97      0.97      0.97      1797\n",
      "weighted avg       0.97      0.97      0.97      1797\n",
      "\n",
      "[[178   0   0   0   0   0   0   0   0   0]\n",
      " [  0 182   0   0   0   0   0   0   0   0]\n",
      " [  0   4 173   0   0   0   0   0   0   0]\n",
      " [  0   0   0 181   0   0   0   2   0   0]\n",
      " [  0   2   0   0 178   0   0   0   1   0]\n",
      " [  0   0   0   1   1 179   0   0   0   1]\n",
      " [  1   0   0   0   0   1 179   0   0   0]\n",
      " [  0   0   0   0   1   0   0 176   1   1]\n",
      " [  0  10   1   3   0   0   0   0 159   1]\n",
      " [  0   0   0   4   3   5   0   0   3 165]]\n",
      "total time used is  0.6419088840484619 secs.\n",
      "k =  3 begin\n",
      "              precision    recall  f1-score   support\n",
      "\n",
      "           0       1.00      1.00      1.00       178\n",
      "           1       0.92      0.99      0.95       182\n",
      "           2       1.00      0.98      0.99       177\n",
      "           3       0.97      0.99      0.98       183\n",
      "           4       0.99      0.98      0.99       181\n",
      "           5       0.99      0.98      0.99       182\n",
      "           6       0.99      1.00      1.00       181\n",
      "           7       0.99      0.96      0.98       179\n",
      "           8       0.97      0.93      0.95       174\n",
      "           9       0.95      0.97      0.96       180\n",
      "\n",
      "   micro avg       0.98      0.98      0.98      1797\n",
      "   macro avg       0.98      0.98      0.98      1797\n",
      "weighted avg       0.98      0.98      0.98      1797\n",
      "\n",
      "[[178   0   0   0   0   0   0   0   0   0]\n",
      " [  0 180   0   0   0   0   1   0   1   0]\n",
      " [  0   4 173   0   0   0   0   0   0   0]\n",
      " [  0   0   0 181   0   0   0   1   1   0]\n",
      " [  0   2   0   0 178   0   0   0   1   0]\n",
      " [  0   0   0   1   1 179   0   0   0   1]\n",
      " [  0   0   0   0   0   0 181   0   0   0]\n",
      " [  0   0   0   0   0   0   0 172   1   6]\n",
      " [  0   9   0   1   0   0   0   0 162   2]\n",
      " [  0   0   0   4   0   1   0   0   1 174]]\n",
      "total time used is  0.5695219039916992 secs.\n",
      "k =  4 begin\n",
      "              precision    recall  f1-score   support\n",
      "\n",
      "           0       0.99      1.00      1.00       178\n",
      "           1       0.91      0.99      0.95       182\n",
      "           2       1.00      0.98      0.99       177\n",
      "           3       0.98      0.98      0.98       183\n",
      "           4       0.99      0.98      0.99       181\n",
      "           5       0.98      0.98      0.98       182\n",
      "           6       0.99      0.99      0.99       181\n",
      "           7       0.99      0.98      0.98       179\n",
      "           8       0.98      0.93      0.95       174\n",
      "           9       0.97      0.96      0.96       180\n",
      "\n",
      "   micro avg       0.98      0.98      0.98      1797\n",
      "   macro avg       0.98      0.98      0.98      1797\n",
      "weighted avg       0.98      0.98      0.98      1797\n",
      "\n",
      "[[178   0   0   0   0   0   0   0   0   0]\n",
      " [  0 181   0   0   0   0   1   0   0   0]\n",
      " [  0   4 173   0   0   0   0   0   0   0]\n",
      " [  0   1   0 179   0   0   0   2   1   0]\n",
      " [  0   3   0   0 178   0   0   0   0   0]\n",
      " [  0   0   0   0   1 179   0   0   0   2]\n",
      " [  1   0   0   0   0   1 179   0   0   0]\n",
      " [  0   0   0   0   0   0   0 175   1   3]\n",
      " [  0  10   0   2   0   0   0   0 161   1]\n",
      " [  0   1   0   2   1   2   0   0   2 172]]\n",
      "total time used is  0.5158712863922119 secs.\n",
      "k =  5 begin\n",
      "              precision    recall  f1-score   support\n",
      "\n",
      "           0       1.00      1.00      1.00       178\n",
      "           1       0.93      0.99      0.96       182\n",
      "           2       1.00      0.98      0.99       177\n",
      "           3       0.98      0.97      0.98       183\n",
      "           4       0.99      0.99      0.99       181\n",
      "           5       0.98      0.99      0.98       182\n",
      "           6       0.99      0.99      0.99       181\n",
      "           7       0.99      0.97      0.98       179\n",
      "           8       0.96      0.93      0.95       174\n",
      "           9       0.96      0.97      0.96       180\n",
      "\n",
      "   micro avg       0.98      0.98      0.98      1797\n",
      "   macro avg       0.98      0.98      0.98      1797\n",
      "weighted avg       0.98      0.98      0.98      1797\n",
      "\n",
      "[[178   0   0   0   0   0   0   0   0   0]\n",
      " [  0 181   0   0   0   0   1   0   0   0]\n",
      " [  0   3 174   0   0   0   0   0   0   0]\n",
      " [  0   1   0 178   0   1   0   1   2   0]\n",
      " [  0   1   0   0 179   0   0   0   1   0]\n",
      " [  0   0   0   0   1 180   0   0   0   1]\n",
      " [  0   0   0   0   0   1 180   0   0   0]\n",
      " [  0   0   0   0   0   0   0 173   1   5]\n",
      " [  0   8   0   2   0   1   0   0 162   1]\n",
      " [  0   0   0   2   1   1   0   0   2 174]]\n",
      "total time used is  0.5183708667755127 secs.\n",
      "k =  6 begin\n",
      "              precision    recall  f1-score   support\n",
      "\n",
      "           0       1.00      1.00      1.00       178\n",
      "           1       0.91      0.99      0.95       182\n",
      "           2       1.00      0.98      0.99       177\n",
      "           3       0.98      0.98      0.98       183\n",
      "           4       0.99      0.99      0.99       181\n",
      "           5       0.98      0.98      0.98       182\n",
      "           6       0.99      0.99      0.99       181\n",
      "           7       0.99      0.98      0.99       179\n",
      "           8       0.98      0.93      0.95       174\n",
      "           9       0.97      0.95      0.96       180\n",
      "\n",
      "   micro avg       0.98      0.98      0.98      1797\n",
      "   macro avg       0.98      0.98      0.98      1797\n",
      "weighted avg       0.98      0.98      0.98      1797\n",
      "\n",
      "[[178   0   0   0   0   0   0   0   0   0]\n",
      " [  0 181   0   0   0   0   1   0   0   0]\n",
      " [  0   3 174   0   0   0   0   0   0   0]\n",
      " [  0   1   0 179   0   1   0   1   1   0]\n",
      " [  0   2   0   0 179   0   0   0   0   0]\n",
      " [  0   0   0   0   1 179   0   0   0   2]\n",
      " [  0   0   0   0   0   1 180   0   0   0]\n",
      " [  0   0   0   0   0   0   0 175   1   3]\n",
      " [  0  10   0   2   0   0   0   0 161   1]\n",
      " [  0   3   0   2   0   2   0   0   2 171]]\n",
      "total time used is  0.6761291027069092 secs.\n",
      "k =  7 begin\n",
      "              precision    recall  f1-score   support\n",
      "\n",
      "           0       1.00      1.00      1.00       178\n",
      "           1       0.91      0.99      0.95       182\n",
      "           2       1.00      0.98      0.99       177\n",
      "           3       0.98      0.97      0.98       183\n",
      "           4       0.99      0.98      0.99       181\n",
      "           5       0.98      0.98      0.98       182\n",
      "           6       0.99      0.99      0.99       181\n",
      "           7       0.99      0.98      0.99       179\n",
      "           8       0.95      0.92      0.94       174\n",
      "           9       0.96      0.96      0.96       180\n",
      "\n",
      "   micro avg       0.98      0.98      0.98      1797\n",
      "   macro avg       0.98      0.98      0.98      1797\n",
      "weighted avg       0.98      0.98      0.98      1797\n",
      "\n",
      "[[178   0   0   0   0   0   0   0   0   0]\n",
      " [  0 180   0   0   0   0   1   0   1   0]\n",
      " [  0   3 174   0   0   0   0   0   0   0]\n",
      " [  0   1   0 178   0   1   0   1   2   0]\n",
      " [  0   2   0   0 178   0   0   0   1   0]\n",
      " [  0   0   0   0   1 179   0   0   0   2]\n",
      " [  0   0   0   0   0   1 180   0   0   0]\n",
      " [  0   0   0   0   0   0   0 175   1   3]\n",
      " [  0  10   0   2   0   0   0   0 160   2]\n",
      " [  0   1   0   2   0   1   0   0   3 173]]\n",
      "total time used is  0.662632942199707 secs.\n",
      "k =  8 begin\n"
     ]
    },
    {
     "name": "stdout",
     "output_type": "stream",
     "text": [
      "              precision    recall  f1-score   support\n",
      "\n",
      "           0       1.00      1.00      1.00       178\n",
      "           1       0.90      0.99      0.95       182\n",
      "           2       1.00      0.97      0.99       177\n",
      "           3       0.97      0.98      0.98       183\n",
      "           4       0.99      0.99      0.99       181\n",
      "           5       0.99      0.98      0.99       182\n",
      "           6       0.99      1.00      1.00       181\n",
      "           7       0.99      0.98      0.98       179\n",
      "           8       0.98      0.91      0.94       174\n",
      "           9       0.96      0.96      0.96       180\n",
      "\n",
      "   micro avg       0.98      0.98      0.98      1797\n",
      "   macro avg       0.98      0.98      0.98      1797\n",
      "weighted avg       0.98      0.98      0.98      1797\n",
      "\n",
      "[[178   0   0   0   0   0   0   0   0   0]\n",
      " [  0 181   0   0   0   0   1   0   0   0]\n",
      " [  0   4 172   0   0   0   0   1   0   0]\n",
      " [  0   1   0 179   0   1   0   1   1   0]\n",
      " [  0   2   0   0 179   0   0   0   0   0]\n",
      " [  0   0   0   0   1 179   0   0   0   2]\n",
      " [  0   0   0   0   0   0 181   0   0   0]\n",
      " [  0   0   0   0   0   0   0 175   1   3]\n",
      " [  0  11   0   2   0   0   0   0 159   2]\n",
      " [  0   2   0   3   0   1   0   0   2 172]]\n",
      "total time used is  0.622776985168457 secs.\n",
      "best k is \n"
     ]
    }
   ],
   "source": [
    "# QUESTION 4)checking the precision for KNN (Instance based classifier)\n",
    "import time\n",
    "from sklearn.metrics import accuracy_score, classification_report, confusion_matrix\n",
    "from sklearn.neighbors import KNeighborsClassifier\n",
    "\n",
    "#neigh = KNeighborsClassifier(n_neighbors=3)\n",
    "#neigh.fit(X, y) \n",
    "range_k = range(1, 9)\n",
    "scores = []\n",
    "best_k = 0\n",
    "\n",
    "for k in range_k:\n",
    "    \n",
    "    start = time.time()\n",
    "    print('k = ', str(k), 'begin')\n",
    "    knn = KNeighborsClassifier(n_neighbors = k)\n",
    "    knn.fit(train_X, train_y)\n",
    "    \n",
    "    y_pred = knn.predict(test_X)\n",
    "    \n",
    "    accuracy = accuracy_score(test_y, y_pred)\n",
    "    scores.append(accuracy)\n",
    "    end = time.time()\n",
    "    \n",
    "    print(classification_report(test_y, y_pred))\n",
    "    print(confusion_matrix(test_y, y_pred))\n",
    "    print('total time used is ', str(end - start), 'secs.')\n",
    "    \n",
    "#best_k = max(scores)\n",
    "print('best k is ' )"
   ]
  },
  {
   "cell_type": "markdown",
   "metadata": {},
   "source": [
    "Explanation:\n",
    "1)looking at the precision result above, I could see that KNN has performed well with a very high accuracy for the dataset. \n",
    "2)Based on that, though I would say that the instance based classifiers have performed better for this dataset when it comes to the higher accuracy,still there are various scenarios that needs to be considered:\n",
    "3)Given this high classification accuracy, I feel that this exactly haven't solved the Digit Recognition problem.\n",
    "4)Because it won't necessarily translate into the real-world viability.\n",
    "5)After learning about the concept, I feel this is mainly due to the dataset itself, where each and every image might have been heavily pre-processed — including cropping, perfect thresholding, and centered.\n",
    "6)And in the real world, I don't expect that the dataset would be so well pre-cleaned and pre-processed from before.\n",
    "7)Eg. I can see certain digits such as 0, 2 with 100% precision. And even other digits are nearly accurate.\n",
    "8)If I specifically talk about the instance based classifiers based on the performance observed (KNN Classifier), then in many cases it is well worth the effort and small loss in accuracy to use the k-NN algorithm.\n",
    "9)All in all, the k-NN algorithm is more suited for low-dimensional feature spaces.\n",
    "\n",
    "#Better accuracy for training set as compared to test set for Random Forest."
   ]
  },
  {
   "cell_type": "code",
   "execution_count": null,
   "metadata": {},
   "outputs": [],
   "source": []
  }
 ],
 "metadata": {
  "kernelspec": {
   "display_name": "Python 3",
   "language": "python",
   "name": "python3"
  },
  "language_info": {
   "codemirror_mode": {
    "name": "ipython",
    "version": 3
   },
   "file_extension": ".py",
   "mimetype": "text/x-python",
   "name": "python",
   "nbconvert_exporter": "python",
   "pygments_lexer": "ipython3",
   "version": "3.6.6"
  }
 },
 "nbformat": 4,
 "nbformat_minor": 2
}
